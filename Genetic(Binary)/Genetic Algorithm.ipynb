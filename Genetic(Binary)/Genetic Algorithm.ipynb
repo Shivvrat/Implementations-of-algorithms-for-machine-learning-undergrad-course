{
 "cells": [
  {
   "cell_type": "markdown",
   "metadata": {},
   "source": [
    "# Genetic Algorithm for Real - Values"
   ]
  },
  {
   "cell_type": "code",
   "execution_count": 9,
   "metadata": {},
   "outputs": [],
   "source": [
    "import numpy as np\n",
    "import random \n",
    "import math\n",
    "from operator import itemgetter"
   ]
  },
  {
   "cell_type": "code",
   "execution_count": 109,
   "metadata": {},
   "outputs": [],
   "source": [
    "\"\"\"\n",
    "This algorithm takes the number of initial chromosomes and also the range in which the values should be present \n",
    "\"\"\"\n",
    "\n",
    "def Initializtion(N, no_of_var , start, end, method, function = \"Default\"):\n",
    "    # Enter Trignometric in function parameter to get trignometric initialization\n",
    "    population = []\n",
    "    function_values = []\n",
    "    for count in range(N):\n",
    "        value = []\n",
    "        if function == \"Default\":\n",
    "            for each in range(no_of_var):\n",
    "                value.append(random.randrange(start, end))\n",
    "            population.append(value)\n",
    "        else:\n",
    "            for each in range(no_of_var):\n",
    "                value.append(math.pi * random.randrange(start, end))\n",
    "            population.append(value)\n",
    "        function_values.append(method(value))\n",
    "    return population, function_values\n",
    "\n",
    "def Selection(N, population, method, arrangement):\n",
    "    population1 = population\n",
    "    new_list = []\n",
    "    for each in range(N):\n",
    "        rand1 = random.random()*np.shape(population1)[0]\n",
    "        rand2 = random.random()*np.shape(population1)[0]\n",
    "        index1 = int(rand1 - rand1%1)\n",
    "        index2 = int(rand2 - rand2%1)\n",
    "        if arrangement.lower() == \"max\":\n",
    "            if method(population1[index1])>= method(population1[index2]):\n",
    "                new_list.append(population1[index1])\n",
    "                population1.remove(population1[index1])\n",
    "            else:\n",
    "                new_list.append(population1[index2])\n",
    "                population1.remove(population1[index2])\n",
    "        elif arrangement.lower() == \"min\":\n",
    "            if method(population1[index1])<= method(population1[index2]):\n",
    "                new_list.append(population1[index1])\n",
    "                population1.remove(population1[index1])\n",
    "            else:\n",
    "                new_list.append(population1[index2])\n",
    "                population1.remove(population1[index2])\n",
    "        else:\n",
    "            print(\"You have entered a wrong value for arrangement\")\n",
    "            exit()\n",
    "    return new_list\n",
    "    \n",
    "def Crossover(p, population1, distribution_index):\n",
    "    pop = list(population1)\n",
    "    for each in range(int(p*np.shape(pop)[0])):\n",
    "        rand1 = random.random()*np.shape(pop)[0]\n",
    "        rand2 = random.random()*np.shape(pop)[0]\n",
    "        parent1 = np.asarray(pop[int(rand1 - rand1%1)],dtype=float)\n",
    "        parent2 = np.asarray(pop[int(rand2 - rand2%1)],dtype=float)\n",
    "        rand3 = random.random()\n",
    "        if rand3<=0.5:\n",
    "            b = (2*rand3)**(1/(1+distribution_index))\n",
    "        else:\n",
    "            b = ((1/2)*(1-rand3))**(1/(1+distribution_index))\n",
    "        child1 = (1/2)*((1+b)*parent1+(1-b)*parent2)\n",
    "        child2 = (1/2)*((1-b)*parent1+(1+b)*parent2)\n",
    "        #print(child1, child2)\n",
    "        pop.append(child1)\n",
    "        pop.append(child2)\n",
    "    return pop\n",
    "\n",
    "def Mutation(mutation_probability, pops, distribution_index):\n",
    "    popu = list(pops)\n",
    "    for each in range(int(mutation_probability*np.shape(pops)[0])):\n",
    "        rand1 = int(random.random()*np.shape(popu)[0])\n",
    "        rand2 = random.random()\n",
    "        if rand2 <= 0.5:\n",
    "            d = (2*rand2)**(1/(1+distribution_index)) - 1\n",
    "        else:\n",
    "            d = 1 - (2*(1-rand2))**(1/(distribution_index + 1))\n",
    "        mutant = popu[rand1] + d\n",
    "        popu.append(mutant)\n",
    "        return popu\n",
    "def Selection(population, function, arrangement, actual):\n",
    "    output = function(population)\n",
    "    pops = list(population)\n",
    "    #print(np.shape(pops), np.shape(output))\n",
    "    pops2 = np.column_stack((np.array(pops).T,np.array(output).T)) \n",
    "    #print(np.shape(pops2))\n",
    "    ind = np.argsort(pops2[:,1]);\n",
    "    #print(pops2)\n",
    "    sorted_list = pops2[ind]\n",
    "    #print(sorted_list)\n",
    "    if arrangement.lower() == \"min\":\n",
    "        return sorted_list[:actual, 0]\n",
    "    elif arrangement.lower() == \"max\":\n",
    "        return sorted_list[-actual:, 0]"
   ]
  },
  {
   "cell_type": "code",
   "execution_count": 111,
   "metadata": {},
   "outputs": [
    {
     "name": "stdout",
     "output_type": "stream",
     "text": [
      "[[36, 29, 68, 76, 86, 86, 19, 78, 44, 63, 15, 17, 40, 71, 73, 63, 36, 22, 95, 15, 55, 61, 71, 7, 96, 49, 58, 65, 9, 84, 52, 66, 96, 42, 63, 81, 52, 23, 13, 81], [69, 72, 21, 80, 63, 87, 99, 75, 82, 79, 14, 11, 22, 86, 16, 23, 55, 47, 38, 48, 69, 5, 33, 89, 29, 38, 73, 85, 94, 15, 45, 75, 42, 37, 29, 58, 24, 58, 28, 59], [43, 59, 99, 88, 18, 69, 45, 33, 26, 99, 13, 99, 38, 6, 84, 51, 90, 14, 69, 94, 92, 77, 86, 16, 94, 55, 98, 78, 52, 92, 19, 84, 52, 73, 78, 47, 47, 70, 23, 28], [7, 15, 96, 40, 9, 54, 90, 31, 94, 42, 69, 58, 27, 10, 76, 7, 41, 17, 58, 60, 81, 23, 36, 69, 60, 2, 53, 17, 50, 74, 81, 72, 62, 67, 68, 87, 52, 33, 60, 42], [82, 87, 97, 90, 27, 40, 65, 9, 66, 64, 22, 28, 69, 47, 96, 16, 83, 14, 30, 99, 78, 56, 11, 82, 31, 54, 2, 82, 56, 56, 29, 17, 51, 14, 14, 50, 76, 29, 45, 29], [84, 39, 16, 37, 39, 84, 21, 40, 62, 7, 15, 17, 94, 65, 75, 46, 83, 34, 9, 20, 98, 79, 5, 12, 32, 13, 29, 70, 65, 98, 86, 95, 90, 74, 8, 6, 61, 83, 70, 83], [3, 22, 92, 68, 93, 90, 62, 91, 64, 52, 47, 19, 78, 8, 35, 25, 30, 99, 21, 74, 76, 37, 97, 35, 29, 18, 6, 23, 72, 70, 40, 66, 71, 42, 43, 98, 53, 77, 55, 28], [36, 95, 25, 53, 55, 97, 25, 3, 55, 12, 80, 43, 37, 75, 54, 82, 54, 7, 72, 72, 94, 99, 18, 79, 86, 35, 25, 30, 97, 14, 37, 20, 59, 92, 56, 95, 15, 28, 99, 87], [42, 87, 17, 49, 16, 19, 65, 9, 80, 86, 83, 27, 23, 36, 31, 53, 78, 10, 97, 36, 39, 93, 86, 20, 39, 23, 49, 36, 14, 91, 95, 34, 45, 69, 48, 90, 43, 62, 73, 29], [24, 91, 83, 42, 16, 32, 51, 45, 53, 57, 9, 29, 73, 33, 58, 27, 77, 7, 8, 31, 17, 28, 88, 87, 10, 5, 69, 35, 55, 34, 50, 95, 99, 54, 11, 76, 7, 14, 37, 84]]\n"
     ]
    }
   ],
   "source": [
    "def method(X):\n",
    "    return np.multiply(X,X)\n",
    "i, function_value = Initializtion(10 ,40 , 2, 100, method)\n",
    "print(i)\n"
   ]
  },
  {
   "cell_type": "code",
   "execution_count": 97,
   "metadata": {},
   "outputs": [
    {
     "name": "stdout",
     "output_type": "stream",
     "text": [
      "(11,) (11,)\n",
      "(11, 2)\n",
      "[[  6.00000000e+00   3.60000000e+01]\n",
      " [  1.89833350e+01   3.60367008e+02]\n",
      " [  1.90000000e+01   3.61000000e+02]\n",
      " [  5.50000000e+01   3.02500000e+03]\n",
      " [  6.20000000e+01   3.84400000e+03]\n",
      " [  6.30000000e+01   3.96900000e+03]\n",
      " [  6.40000000e+01   4.09600000e+03]\n",
      " [  6.50000000e+01   4.22500000e+03]\n",
      " [  7.90000000e+01   6.24100000e+03]\n",
      " [  8.50000000e+01   7.22500000e+03]\n",
      " [  8.90000000e+01   7.92100000e+03]]\n",
      "[  6.          18.98333501  19.          55.          62.        ]\n"
     ]
    }
   ],
   "source": []
  },
  {
   "cell_type": "code",
   "execution_count": null,
   "metadata": {},
   "outputs": [],
   "source": []
  },
  {
   "cell_type": "code",
   "execution_count": 5,
   "metadata": {},
   "outputs": [
    {
     "data": {
      "text/plain": [
       "27"
      ]
     },
     "execution_count": 5,
     "metadata": {},
     "output_type": "execute_result"
    }
   ],
   "source": [
    "3**3"
   ]
  },
  {
   "cell_type": "code",
   "execution_count": null,
   "metadata": {},
   "outputs": [],
   "source": []
  }
 ],
 "metadata": {
  "kernelspec": {
   "display_name": "Python 3",
   "language": "python",
   "name": "python3"
  },
  "language_info": {
   "codemirror_mode": {
    "name": "ipython",
    "version": 3
   },
   "file_extension": ".py",
   "mimetype": "text/x-python",
   "name": "python",
   "nbconvert_exporter": "python",
   "pygments_lexer": "ipython3",
   "version": "3.6.3"
  }
 },
 "nbformat": 4,
 "nbformat_minor": 2
}
