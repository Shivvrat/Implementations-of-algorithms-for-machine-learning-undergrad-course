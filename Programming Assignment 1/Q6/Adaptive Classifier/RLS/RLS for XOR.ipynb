{
 "cells": [
  {
   "cell_type": "code",
   "execution_count": 1,
   "metadata": {
    "ExecuteTime": {
     "end_time": "2018-10-02T10:59:28.682247Z",
     "start_time": "2018-10-02T10:59:27.934169Z"
    }
   },
   "outputs": [],
   "source": [
    "import matplotlib.pyplot as plt\n",
    "from sklearn import datasets\n",
    "import numpy as np\n",
    "from random import randrange\n",
    "import scipy\n",
    "import math\n",
    "\n",
    "# import some data to play with\n",
    "X = np.asarray([[0,0],[0,1],[1,0],[1,1]])\n",
    "y = np.asarray([[0],[1],[1],[0]])\n",
    "#print(np.shape(X))\n",
    "#print(np.shape(y))"
   ]
  },
  {
   "cell_type": "code",
   "execution_count": 2,
   "metadata": {
    "ExecuteTime": {
     "end_time": "2018-10-02T10:59:28.723133Z",
     "start_time": "2018-10-02T10:59:28.684228Z"
    }
   },
   "outputs": [],
   "source": [
    "\"\"\"\n",
    "RLS function used to update weights\n",
    "\"\"\"\n",
    "def RLS (actual, inp, weight, r_k_inv ):\n",
    "    #r_k_inv = 1000*np.identity(np.shape(i)[0])\n",
    "    # actual output inp and weight are matrices\n",
    "    y_not = np.matmul(weight ,inp)\n",
    "    error = actual - y_not\n",
    "    z_k = np.matmul(r_k_inv, inp)\n",
    "    q = np.matmul(inp.T , z_k)\n",
    "    v = 1/(1 + q)\n",
    "    z_k_tilde = v * z_k\n",
    "    w_new = weight + error * z_k_tilde.T\n",
    "    r_new_inv = r_k_inv - np.matmul(z_k_tilde, z_k_tilde.T)\n",
    "    #print(np.shape(y_not),np.shape(error),np.shape(z_k),np.shape(q),np.shape(v),np.shape(z_k_tilde),np.shape(w_new), np.shape(r_k_inv))\n",
    "    return w_new, r_new_inv\n",
    "def getLoss(w,x,Y,lam):\n",
    "    m = x.shape[0] #First we get the number of training examples\n",
    "    scores = np.dot(x,w) #Then we compute raw class scores given our input and current weights\n",
    "    y_mat = oneHotIt(y)\n",
    "    prob = softmax(scores) #Next we perform a softmax on these scores to get their probabilities\n",
    "    loss = (-1 / m) * np.sum(y_mat * np.log(prob)) + (lam/2)*np.sum(w*w) #We then find the loss of the probabilities\n",
    "    return loss\n",
    "def oneHotIt(Y):\n",
    "    m = Y.shape[0]\n",
    "    #Y = Y[:,0]\n",
    "    OHX = scipy.sparse.csr_matrix((np.ones(m), (Y, np.array(range(m)))))\n",
    "    OHX = np.array(OHX.todense()).T\n",
    "    return OHX\n",
    "def softmax(z):\n",
    "    z -= np.max(z)\n",
    "    sm = (np.exp(z).T / np.sum(np.exp(z),axis=1)).T\n",
    "    return sm\n",
    "def getProbsAndPreds(someX):\n",
    "    probs = softmax(np.dot(someX,w))\n",
    "    preds = np.argmax(probs,axis=1)\n",
    "    return probs,preds"
   ]
  },
  {
   "cell_type": "code",
   "execution_count": 5,
   "metadata": {
    "ExecuteTime": {
     "end_time": "2018-10-02T10:59:33.560674Z",
     "start_time": "2018-10-02T10:59:33.544720Z"
    }
   },
   "outputs": [],
   "source": [
    "w = [np.random.randn(),np.random.randn()]\n",
    "lam = 1\n",
    "iterations = 1000\n",
    "learningRate = 1e-5\n",
    "losses = []\n",
    "train = int(np.shape(X)[0] * 0.8)\n",
    "for i in range(0,int(np.shape(X)[0])):\n",
    "    output = 1/(1 + (math.exp(-(X[i][0]*w[0] + X[i][1] * w[1]))))\n",
    "    #print(np.shape(output),np.shape(y))\n",
    "    loss = y[i] * np.log(output) + (1-y[i]) * np.log(1-output)\n",
    "    losses.append(loss)\n",
    "    w = LMS(loss, X[i], w)"
   ]
  },
  {
   "cell_type": "code",
   "execution_count": 6,
   "metadata": {
    "ExecuteTime": {
     "end_time": "2018-10-02T10:59:33.979797Z",
     "start_time": "2018-10-02T10:59:33.847640Z"
    }
   },
   "outputs": [
    {
     "data": {
      "image/png": "[encoded data removed]",
      "text/plain": [
       "<matplotlib.figure.Figure at 0x10c97ef0>"
      ]
     },
     "metadata": {},
     "output_type": "display_data"
    }
   ],
   "source": [
    "plt.plot(losses)\n",
    "plt.ylabel('errors')\n",
    "plt.xlabel('value')\n",
    "plt.show()"
   ]
  },
  {
   "cell_type": "code",
   "execution_count": null,
   "metadata": {},
   "outputs": [],
   "source": []
  }
 ],
 "metadata": {
  "kernelspec": {
   "display_name": "Python 3",
   "language": "python",
   "name": "python3"
  },
  "language_info": {
   "codemirror_mode": {
    "name": "ipython",
    "version": 3
   },
   "file_extension": ".py",
   "mimetype": "text/x-python",
   "name": "python",
   "nbconvert_exporter": "python",
   "pygments_lexer": "ipython3",
   "version": "3.6.3"
  },
  "varInspector": {
   "cols": {
    "lenName": 16,
    "lenType": 16,
    "lenVar": 40
   },
   "kernels_config": {
    "python": {
     "delete_cmd_postfix": "",
     "delete_cmd_prefix": "del ",
     "library": "var_list.py",
     "varRefreshCmd": "print(var_dic_list())"
    },
    "r": {
     "delete_cmd_postfix": ") ",
     "delete_cmd_prefix": "rm(",
     "library": "var_list.r",
     "varRefreshCmd": "cat(var_dic_list()) "
    }
   },
   "types_to_exclude": [
    "module",
    "function",
    "builtin_function_or_method",
    "instance",
    "_Feature"
   ],
   "window_display": false
  }
 },
 "nbformat": 4,
 "nbformat_minor": 2
}
