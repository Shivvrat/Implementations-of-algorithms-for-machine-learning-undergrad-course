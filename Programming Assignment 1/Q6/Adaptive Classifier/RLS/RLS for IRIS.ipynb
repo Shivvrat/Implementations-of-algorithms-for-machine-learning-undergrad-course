{
 "cells": [
  {
   "cell_type": "code",
   "execution_count": 1,
   "metadata": {
    "ExecuteTime": {
     "end_time": "2018-10-02T11:04:39.885791Z",
     "start_time": "2018-10-02T11:04:39.095627Z"
    }
   },
   "outputs": [],
   "source": [
    "import matplotlib.pyplot as plt\n",
    "from sklearn import datasets\n",
    "import numpy as np\n",
    "from random import randrange\n",
    "import scipy\n",
    "\n",
    "# import some data to play with\n",
    "iris = datasets.load_iris()\n",
    "X = iris.data  \n",
    "y = iris.target\n",
    "#print(np.shape(X))\n",
    "#print(np.shape(y))"
   ]
  },
  {
   "cell_type": "code",
   "execution_count": 2,
   "metadata": {
    "ExecuteTime": {
     "end_time": "2018-10-02T11:04:39.932625Z",
     "start_time": "2018-10-02T11:04:39.887741Z"
    }
   },
   "outputs": [],
   "source": [
    "\"\"\"\n",
    "RLS function used to update weights\n",
    "\"\"\"\n",
    "def RLS (actual, inp, weight, r_k_inv ):\n",
    "    #r_k_inv = 1000*np.identity(np.shape(i)[0])\n",
    "    # actual output inp and weight are matrices\n",
    "    y_not = np.matmul(weight ,inp)\n",
    "    error = actual - y_not\n",
    "    z_k = np.matmul(r_k_inv, inp)\n",
    "    q = np.matmul(inp.T , z_k)\n",
    "    v = 1/(1 + q)\n",
    "    z_k_tilde = v * z_k\n",
    "    w_new = weight + error * z_k_tilde.T\n",
    "    r_new_inv = r_k_inv - np.matmul(z_k_tilde, z_k_tilde.T)\n",
    "    #print(np.shape(y_not),np.shape(error),np.shape(z_k),np.shape(q),np.shape(v),np.shape(z_k_tilde),np.shape(w_new), np.shape(r_k_inv))\n",
    "    return w_new, r_new_inv\n",
    "    return weight + (2 * learning_rate * (inp * error))\n",
    "def getLoss(w,x,y,lam):\n",
    "    m = x.shape[0] #First we get the number of training examples\n",
    "    y_mat = oneHotIt(y) #Next we convert the integer class coding into a one-hot representation\n",
    "    scores = np.dot(x,w) #Then we compute raw class scores given our input and current weights\n",
    "    prob = softmax(scores) #Next we perform a softmax on these scores to get their probabilities\n",
    "    loss = (-1 / m) * np.sum(y_mat * np.log(prob)) + (lam/2)*np.sum(w*w) #We then find the loss of the probabilities\n",
    "    grad = (-1 / m) * np.dot(x.T,(y_mat - prob)) + lam*w #And compute the gradient for that loss\n",
    "    return loss,grad\n",
    "def oneHotIt(Y):\n",
    "    m = Y.shape[0]\n",
    "    #Y = Y[:,0]\n",
    "    OHX = scipy.sparse.csr_matrix((np.ones(m), (Y, np.array(range(m)))))\n",
    "    OHX = np.array(OHX.todense()).T\n",
    "    return OHX\n",
    "def softmax(z):\n",
    "    z -= np.max(z)\n",
    "    sm = (np.exp(z).T / np.sum(np.exp(z),axis=1)).T\n",
    "    return sm\n",
    "def getProbsAndPreds(someX):\n",
    "    probs = softmax(np.dot(someX,w))\n",
    "    preds = np.argmax(probs,axis=1)\n",
    "    return probs,preds"
   ]
  },
  {
   "cell_type": "code",
   "execution_count": 3,
   "metadata": {
    "ExecuteTime": {
     "end_time": "2018-10-02T11:04:39.996449Z",
     "start_time": "2018-10-02T11:04:39.935613Z"
    }
   },
   "outputs": [],
   "source": [
    "w = np.zeros([X.shape[1],len(np.unique(y))])\n",
    "lam = 0.5\n",
    "iterations = 1000\n",
    "learningRate = 1e-2\n",
    "losses = []\n",
    "train = int(np.shape(X)[0] * 0.8)\n",
    "for i in range(0,int(np.shape(X)[0] * 0.8)):\n",
    "    loss, grad = getLoss(w,X,y,lam)\n",
    "    losses.append(loss)\n",
    "    w = w - (learningRate * grad)"
   ]
  },
  {
   "cell_type": "code",
   "execution_count": 4,
   "metadata": {
    "ExecuteTime": {
     "end_time": "2018-10-02T11:04:40.117631Z",
     "start_time": "2018-10-02T11:04:39.999481Z"
    }
   },
   "outputs": [
    {
     "data": {
      "image/png": "[encoded data removed]",
      "text/plain": [
       "<matplotlib.figure.Figure at 0x106234b0>"
      ]
     },
     "metadata": {},
     "output_type": "display_data"
    }
   ],
   "source": [
    "plt.plot(losses)\n",
    "plt.ylabel('errors')\n",
    "plt.xlabel('value')\n",
    "plt.show()"
   ]
  },
  {
   "cell_type": "code",
   "execution_count": 5,
   "metadata": {
    "ExecuteTime": {
     "end_time": "2018-10-02T11:04:40.125577Z",
     "start_time": "2018-10-02T11:04:40.119620Z"
    }
   },
   "outputs": [],
   "source": [
    "def getAccuracy(someX,someY):\n",
    "    prob,prede = getProbsAndPreds(someX)\n",
    "    accuracy = sum(prede == someY)/(float(len(someY)))\n",
    "    return accuracy"
   ]
  },
  {
   "cell_type": "code",
   "execution_count": 6,
   "metadata": {
    "ExecuteTime": {
     "end_time": "2018-10-02T11:04:40.146530Z",
     "start_time": "2018-10-02T11:04:40.128569Z"
    }
   },
   "outputs": [
    {
     "name": "stdout",
     "output_type": "stream",
     "text": [
      "Training Accuracy:  0.583333333333\n",
      "Test Accuracy:  1.0\n"
     ]
    }
   ],
   "source": [
    "print('Training Accuracy: ', getAccuracy(X[:train],y[:train]))\n",
    "print('Test Accuracy: ', getAccuracy(X[train:], y[train:]))"
   ]
  },
  {
   "cell_type": "code",
   "execution_count": 7,
   "metadata": {
    "ExecuteTime": {
     "end_time": "2018-10-02T11:04:40.161508Z",
     "start_time": "2018-10-02T11:04:40.151516Z"
    }
   },
   "outputs": [
    {
     "name": "stdout",
     "output_type": "stream",
     "text": [
      "Validation for example 6 : predicted -  0 actual -  0\n"
     ]
    }
   ],
   "source": [
    "out = (np.matmul(X[5],w))\n",
    "out = np.exp(out) / np.sum(np.exp(out), axis=0)\n",
    "print(\"Validation for example 6 : predicted - \",np.argmax(out),\"actual - \" ,y[1])\n"
   ]
  },
  {
   "cell_type": "code",
   "execution_count": null,
   "metadata": {},
   "outputs": [],
   "source": []
  }
 ],
 "metadata": {
  "kernelspec": {
   "display_name": "Python 3",
   "language": "python",
   "name": "python3"
  },
  "language_info": {
   "codemirror_mode": {
    "name": "ipython",
    "version": 3
   },
   "file_extension": ".py",
   "mimetype": "text/x-python",
   "name": "python",
   "nbconvert_exporter": "python",
   "pygments_lexer": "ipython3",
   "version": "3.6.3"
  },
  "varInspector": {
   "cols": {
    "lenName": 16,
    "lenType": 16,
    "lenVar": 40
   },
   "kernels_config": {
    "python": {
     "delete_cmd_postfix": "",
     "delete_cmd_prefix": "del ",
     "library": "var_list.py",
     "varRefreshCmd": "print(var_dic_list())"
    },
    "r": {
     "delete_cmd_postfix": ") ",
     "delete_cmd_prefix": "rm(",
     "library": "var_list.r",
     "varRefreshCmd": "cat(var_dic_list()) "
    }
   },
   "types_to_exclude": [
    "module",
    "function",
    "builtin_function_or_method",
    "instance",
    "_Feature"
   ],
   "window_display": false
  }
 },
 "nbformat": 4,
 "nbformat_minor": 2
}
