{
 "cells": [
  {
   "cell_type": "markdown",
   "metadata": {},
   "source": [
    "# Genetic Algorithm for Binary - Values"
   ]
  },
  {
   "cell_type": "markdown",
   "metadata": {},
   "source": [
    "## Imports"
   ]
  },
  {
   "cell_type": "code",
   "execution_count": 1,
   "metadata": {
    "ExecuteTime": {
     "end_time": "2018-10-02T22:27:48.594100Z",
     "start_time": "2018-10-02T22:27:47.645994Z"
    }
   },
   "outputs": [],
   "source": [
    "import numpy as np\n",
    "import random \n",
    "import math\n",
    "from pyswarms.utils.functions.single_obj import rosenbrock_func\n",
    "from operator import itemgetter\n",
    "from numpy import linspace\n",
    "import matplotlib.pyplot as plt"
   ]
  },
  {
   "cell_type": "markdown",
   "metadata": {},
   "source": [
    "## Methods used for code"
   ]
  },
  {
   "cell_type": "code",
   "execution_count": 9,
   "metadata": {
    "ExecuteTime": {
     "end_time": "2018-10-02T22:37:16.746100Z",
     "start_time": "2018-10-02T22:37:16.440808Z"
    },
    "code_folding": []
   },
   "outputs": [],
   "source": [
    "def bool2int(x):\n",
    "    y = 0\n",
    "    for i,j in enumerate(x):\n",
    "        y += j<<i\n",
    "    return y  \n",
    "\n",
    "def Initialization(no_of_bits, population_size):\n",
    "    population = []\n",
    "    for count in range(population_size):\n",
    "        bits = []\n",
    "        for each in range(no_of_bits):\n",
    "            rand = np.random.randint(0,2)\n",
    "            bits.append(rand)\n",
    "        population.append(bits)\n",
    "    return population\n",
    "\n",
    "def Selection(population, method, arrangement):\n",
    "    N = np.shape(population)[0]\n",
    "    population1 = population\n",
    "    new_list = []\n",
    "    for each in range(N):\n",
    "        rand1 = random.random()*np.shape(population1)[0]\n",
    "        rand2 = random.random()*np.shape(population1)[0]\n",
    "        index1 = int(rand1 - rand1%1)\n",
    "        index2 = int(rand2 - rand2%1)\n",
    "        if arrangement.lower() == \"max\":\n",
    "            if method(bool2int(population1[index1]))>= method(bool2int(population1[index2])):\n",
    "                new_list.append(population1[index1])\n",
    "                np.delete(population1, index1)\n",
    "            else:\n",
    "                new_list.append(population1[index2])\n",
    "                np.delete(population1, index2)\n",
    "        elif arrangement.lower() == \"min\":\n",
    "            if method(bool2int(population1[index1]))<= method(bool2int(population1[index2])):\n",
    "                new_list.append(population1[index1])\n",
    "                np.delete(population1, index1)\n",
    "            else:\n",
    "                new_list.append(population1[index2])\n",
    "                np.delete(population1, index1)\n",
    "        else:\n",
    "            print(\"You have entered a wrong value for arrangement\")\n",
    "            exit()\n",
    "    return new_list\n",
    "def Crossover(p, population):\n",
    "    pop = population\n",
    "    for each in range(int(p*np.shape(pop)[0])):\n",
    "        rand1 = random.random()*np.shape(pop)[0]\n",
    "        rand2 = random.random()*np.shape(pop)[0]\n",
    "        parent1 = np.asarray(pop[int(rand1 - rand1%1)],dtype=int)\n",
    "        parent2 = np.asarray(pop[int(rand2 - rand2%1)],dtype=int)\n",
    "        rand3 = int(random.randrange(0,np.shape(pop[0])[0]))\n",
    "        #print(type(parent1[:rand3]))\n",
    "        #print(parent2[rand3:])\n",
    "        child1 = np.ndarray.tolist(np.concatenate([parent1[:rand3],parent2[rand3:]]))\n",
    "        child2 = np.ndarray.tolist(np.concatenate([parent2[:rand3],parent1[rand3:]]))\n",
    "        pop.append(child1)\n",
    "        pop.append(child2)\n",
    "    return pop\n",
    "def Mutation(p , population):\n",
    "    pop = population\n",
    "    for each in range(int(p*np.shape(pop)[0])):\n",
    "        rand1 = random.random()*np.shape(pop)[0]\n",
    "        parent1 = (pop[int(rand1 - rand1%1)])\n",
    "        rand3 = int(random.randrange(0,np.shape(pop[0])[0]))\n",
    "        if parent1[rand3] == 1:\n",
    "            parent1[rand3] = 0\n",
    "        else :\n",
    "            parent1[rand3] = 1\n",
    "        pop.append(parent1)\n",
    "    return pop\n",
    "def Next_Gen(population, function, arrangement, actual):\n",
    "    output = []\n",
    "    i = 0\n",
    "    for each in population:\n",
    "        output.append(function(bool2int(population[i])))\n",
    "        i = i + 1\n",
    "    #print(population)\n",
    "    pops = list(population)\n",
    "    #print(np.shape(pops), np.shape(output))\n",
    "    pops2 = np.column_stack((np.array(pops),np.array(output))) \n",
    "    #print(np.shape(pops2))\n",
    "    ind = np.argsort(pops2[:,-1]);\n",
    "    #print(pops2)\n",
    "    sorted_list = pops2[ind]\n",
    "    #print(sorted_list)\n",
    "    if arrangement.lower() == \"min\":\n",
    "        return sorted_list[:actual, :-1]\n",
    "    elif arrangement.lower() == \"max\":\n",
    "        return sorted_list[-actual:, :-1]"
   ]
  },
  {
   "cell_type": "markdown",
   "metadata": {},
   "source": [
    "## Main Method"
   ]
  },
  {
   "cell_type": "code",
   "execution_count": 12,
   "metadata": {
    "ExecuteTime": {
     "end_time": "2018-10-02T22:42:26.000124Z",
     "start_time": "2018-10-02T22:40:20.825129Z"
    }
   },
   "outputs": [],
   "source": [
    "def method(x):\n",
    "    return ((1-x)**2 + 100* ((x**2))**2)\n",
    "best = []\n",
    "output = []\n",
    "i = Initialization(100 ,100)\n",
    "for each in range(1000):\n",
    "    selected = Selection(i, method, \"min\")\n",
    "    crossover = Crossover(0.8, selected)\n",
    "    mutated = Mutation(0.2, crossover)\n",
    "    i = Next_Gen(mutated, method, \"min\", 100)\n",
    "    best.append(i)"
   ]
  }
 ],
 "metadata": {
  "kernelspec": {
   "display_name": "Python 3",
   "language": "python",
   "name": "python3"
  },
  "language_info": {
   "codemirror_mode": {
    "name": "ipython",
    "version": 3
   },
   "file_extension": ".py",
   "mimetype": "text/x-python",
   "name": "python",
   "nbconvert_exporter": "python",
   "pygments_lexer": "ipython3",
   "version": "3.6.3"
  },
  "notify_time": "0",
  "varInspector": {
   "cols": {
    "lenName": 16,
    "lenType": 16,
    "lenVar": 40
   },
   "kernels_config": {
    "python": {
     "delete_cmd_postfix": "",
     "delete_cmd_prefix": "del ",
     "library": "var_list.py",
     "varRefreshCmd": "print(var_dic_list())"
    },
    "r": {
     "delete_cmd_postfix": ") ",
     "delete_cmd_prefix": "rm(",
     "library": "var_list.r",
     "varRefreshCmd": "cat(var_dic_list()) "
    }
   },
   "position": {
    "height": "144px",
    "left": "1120px",
    "right": "20px",
    "top": "143px",
    "width": "350px"
   },
   "types_to_exclude": [
    "module",
    "function",
    "builtin_function_or_method",
    "instance",
    "_Feature"
   ],
   "window_display": true
  }
 },
 "nbformat": 4,
 "nbformat_minor": 2
}
