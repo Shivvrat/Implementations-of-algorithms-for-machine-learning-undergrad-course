{
 "cells": [
  {
   "cell_type": "markdown",
   "metadata": {},
   "source": [
    "# Differential Evolution for Sphere Function"
   ]
  },
  {
   "cell_type": "code",
   "execution_count": 1,
   "metadata": {},
   "outputs": [],
   "source": [
    "import numpy as np\n",
    "import random \n",
    "import math\n",
    "from pyswarms.utils.functions.single_obj import rosenbrock_func\n",
    "from operator import itemgetter\n",
    "from numpy import linspace\n",
    "import matplotlib.pyplot as plt"
   ]
  },
  {
   "cell_type": "markdown",
   "metadata": {},
   "source": [
    "## Methods used "
   ]
  },
  {
   "cell_type": "code",
   "execution_count": 2,
   "metadata": {},
   "outputs": [],
   "source": [
    "def Initializtion(N, no_of_var , start, end, method, function = \"Default\"):\n",
    "    # Enter Trignometric in function parameter to get trignometric initialization\n",
    "    population = []\n",
    "    function_values = []\n",
    "    for count in range(N):\n",
    "        value = []\n",
    "        if function == \"Default\":\n",
    "            for each in range(no_of_var):\n",
    "                value.append(random.randrange(start, end))\n",
    "            population.append(value)\n",
    "        else:\n",
    "            for each in range(no_of_var):\n",
    "                value.append(math.pi * random.randrange(start, end))\n",
    "            population.append(value)\n",
    "        function_values.append(method(value))\n",
    "    return np.array(population), function_values\n",
    "\n",
    "def Mutation(pops, f = 1.5):\n",
    "    pop = np.array(pops)\n",
    "    mutant = []\n",
    "    for each in range(int(np.shape(pop)[0])): \n",
    "        rand1 = random.random()*np.shape(pop)[0]\n",
    "        rand2 = random.random()*np.shape(pop)[0]\n",
    "        parent1 = pop[int(rand1 - rand1%1)]\n",
    "        parent2 = pop[int(rand2 - rand2%1)]\n",
    "        rand3 = random.random()*np.shape(pop)[0]\n",
    "        parent3 = pop[int(rand3 - rand3%1)]\n",
    "        child = parent1 + f * (parent2 - parent3)\n",
    "        mutant.append(child)\n",
    "    return mutant\n",
    "\n",
    "def Crossover(pops, mutant, cross_over_constant = 0.4):\n",
    "    pop = list(pops)\n",
    "    mutant = list(mutant)\n",
    "    trial_vector = []\n",
    "    for each1 in range(int(np.shape(pop)[0])):\n",
    "        cross1 = []\n",
    "        #print(int(np.shape(pop[0])[0]))\n",
    "        for each2 in range(int((np.shape(pop[0]))[0])):\n",
    "            rand1 = random.random()\n",
    "            if rand1 <= cross_over_constant:\n",
    "                #print(mutant[each1][each2])\n",
    "                temp = mutant[each1][each2]\n",
    "                cross1.append((temp))\n",
    "            else:\n",
    "                #print(pops[each1][each2])\n",
    "                temp = pops[each1][each2]\n",
    "                cross1.append((temp))\n",
    "            #print(\"CROSS\", each1, each2, cross1)\n",
    "        trial_vector.append(cross1)\n",
    "    return trial_vector\n",
    "def Selection(pops, trial_vector, function, arrangement,actual):\n",
    "    output = []\n",
    "    value = []\n",
    "    if arrangement.lower() == \"min\":\n",
    "        for each1 in range(int(np.shape(pops)[0])):\n",
    "            #print(int(np.shape(pop[0])[0]))\n",
    "                if function(np.array(pops[each1])) >= function(np.array(trial_vector[each1])):\n",
    "                    #print(\"pops\")\n",
    "                    output.append(np.array(pops[each1]))\n",
    "                    value.append(function(pops[each1]))\n",
    "                else:\n",
    "                    #print(\"trial_vector\")\n",
    "                    output.append(np.array(trial_vector[each1]))\n",
    "                    value.append(function(trial_vector[each1]))\n",
    "                #print(output\n",
    "    elif arrangement.lower() == \"max\":\n",
    "        for each1 in range(int(np.shape(pops)[0])):\n",
    "            #print(int(np.shape(pop[0])[0]))\n",
    "                if function(np.array(pops[each1])) <= function(np.array(trial_vector[each1])):\n",
    "                    #print(\"pops\")\n",
    "                    output.append(np.array(pops[each1]))\n",
    "                    value.append(function(pops[each1]))\n",
    "                else:\n",
    "                    #print(\"trial_vector\")\n",
    "                    output.append(np.array(trial_vector[each1]))\n",
    "                    value.append(function(trial_vector[each1]))\n",
    "                #print(output\n",
    "    pops = list(output)\n",
    "    #print(np.shape(pops), np.shape(output))\n",
    "    pops2 = np.column_stack(((pops),(value))) \n",
    "    #print(np.shape(pops2))\n",
    "    ind = np.argsort(pops2[:,-1]);\n",
    "    #print(pops2)\n",
    "    sorted_list = pops2[ind]\n",
    "    #print(sorted_list)\n",
    "    if arrangement.lower() == \"min\":\n",
    "        #print(type(sorted_list))\n",
    "        return sorted_list[:actual, :-1]\n",
    "    elif arrangement.lower() == \"max\":\n",
    "        #print(type(sorted_list))\n",
    "        return sorted_list[-actual:, :-1]"
   ]
  },
  {
   "cell_type": "code",
   "execution_count": 3,
   "metadata": {},
   "outputs": [],
   "source": [
    "def method(X):\n",
    "    return np.sum(np.array(X)**2)"
   ]
  },
  {
   "cell_type": "markdown",
   "metadata": {},
   "source": [
    "## Testing and Training"
   ]
  },
  {
   "cell_type": "code",
   "execution_count": 4,
   "metadata": {},
   "outputs": [],
   "source": [
    "best = []\n",
    "output = []\n",
    "i, function_value = Initializtion(100 ,100 , 1, 10, method)\n",
    "for each in range(1000):\n",
    "    #print(each)\n",
    "    mutated = Mutation(i)\n",
    "    #print(\"Mutated\", mutated)\n",
    "    #print(np.shape(i[0]))\n",
    "    trial_vector = Crossover(i , mutated)\n",
    "    #print(\"Trial\", trial_vector)\n",
    "    output1 = Selection(i, trial_vector, method, \"max\", 5)\n",
    "    i = np.array(output1)\n",
    "    #print(\"output\",output1)\n",
    "    output.append(method(i[0]))\n"
   ]
  },
  {
   "cell_type": "code",
   "execution_count": 5,
   "metadata": {},
   "outputs": [
    {
     "data": {
      "image/png": "[encoded data removed]",
      "text/plain": [
       "<matplotlib.figure.Figure at 0x6906470>"
      ]
     },
     "metadata": {},
     "output_type": "display_data"
    }
   ],
   "source": [
    "plt.plot(output)\n",
    "plt.ylabel('values')\n",
    "plt.xlabel('iterations')\n",
    "plt.show()"
   ]
  }
 ],
 "metadata": {
  "kernelspec": {
   "display_name": "Python 3",
   "language": "python",
   "name": "python3"
  },
  "language_info": {
   "codemirror_mode": {
    "name": "ipython",
    "version": 3
   },
   "file_extension": ".py",
   "mimetype": "text/x-python",
   "name": "python",
   "nbconvert_exporter": "python",
   "pygments_lexer": "ipython3",
   "version": "3.6.3"
  },
  "varInspector": {
   "cols": {
    "lenName": 16,
    "lenType": 16,
    "lenVar": 40
   },
   "kernels_config": {
    "python": {
     "delete_cmd_postfix": "",
     "delete_cmd_prefix": "del ",
     "library": "var_list.py",
     "varRefreshCmd": "print(var_dic_list())"
    },
    "r": {
     "delete_cmd_postfix": ") ",
     "delete_cmd_prefix": "rm(",
     "library": "var_list.r",
     "varRefreshCmd": "cat(var_dic_list()) "
    }
   },
   "types_to_exclude": [
    "module",
    "function",
    "builtin_function_or_method",
    "instance",
    "_Feature"
   ],
   "window_display": false
  }
 },
 "nbformat": 4,
 "nbformat_minor": 2
}
