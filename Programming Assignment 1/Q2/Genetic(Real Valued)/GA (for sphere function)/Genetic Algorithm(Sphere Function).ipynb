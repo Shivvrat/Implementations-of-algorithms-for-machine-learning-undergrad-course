{
 "cells": [
  {
   "cell_type": "markdown",
   "metadata": {},
   "source": [
    "# Genetic Algorithm for Real - Values"
   ]
  },
  {
   "cell_type": "code",
   "execution_count": 58,
   "metadata": {},
   "outputs": [],
   "source": [
    "import numpy as np\n",
    "import random \n",
    "import math\n",
    "from operator import itemgetter\n",
    "from numpy import linspace\n",
    "import matplotlib.pyplot as plt"
   ]
  },
  {
   "cell_type": "code",
   "execution_count": 59,
   "metadata": {},
   "outputs": [],
   "source": [
    "def Initializtion(N, no_of_var , start, end, method, function = \"Default\"):\n",
    "    # Enter Trignometric in function parameter to get trignometric initialization\n",
    "    population = []\n",
    "    function_values = []\n",
    "    for count in range(N):\n",
    "        value = []\n",
    "        if function == \"Default\":\n",
    "            for each in range(no_of_var):\n",
    "                value.append(random.randrange(start, end))\n",
    "            population.append(value)\n",
    "        else:\n",
    "            for each in range(no_of_var):\n",
    "                value.append(math.pi * random.randrange(start, end))\n",
    "            population.append(value)\n",
    "        function_values.append(method(value))\n",
    "    return population, function_values\n",
    "\n",
    "def Selection(N, population, method, arrangement):\n",
    "    population1 = population\n",
    "    new_list = []\n",
    "    for each in range(N):\n",
    "        rand1 = random.random()*np.shape(population1)[0]\n",
    "        rand2 = random.random()*np.shape(population1)[0]\n",
    "        index1 = int(rand1 - rand1%1)\n",
    "        index2 = int(rand2 - rand2%1)\n",
    "        if arrangement.lower() == \"max\":\n",
    "            if method(population1[index1])>= method(population1[index2]):\n",
    "                new_list.append(population1[index1])\n",
    "                np.delete(population1, index1)\n",
    "            else:\n",
    "                new_list.append(population1[index2])\n",
    "                np.delete(population1, index2)\n",
    "        elif arrangement.lower() == \"min\":\n",
    "            if method(population1[index1])<= method(population1[index2]):\n",
    "                new_list.append(population1[index1])\n",
    "                np.delete(population1, index1)\n",
    "            else:\n",
    "                new_list.append(population1[index2])\n",
    "                np.delete(population1, index1)\n",
    "        else:\n",
    "            print(\"You have entered a wrong value for arrangement\")\n",
    "            exit()\n",
    "    return new_list\n",
    "    \n",
    "def Crossover(p, population1, distribution_index = 20):\n",
    "    pop = list(population1)\n",
    "    for each in range(int(p*np.shape(pop)[0])):\n",
    "        rand1 = random.random()*np.shape(pop)[0]\n",
    "        rand2 = random.random()*np.shape(pop)[0]\n",
    "        parent1 = np.asarray(pop[int(rand1 - rand1%1)],dtype=float)\n",
    "        parent2 = np.asarray(pop[int(rand2 - rand2%1)],dtype=float)\n",
    "        rand3 = random.random()\n",
    "        if rand3 <= 0.5:\n",
    "            b = (2*rand3)**(1/(1+distribution_index))\n",
    "        else:\n",
    "            b = ((1/2)*(1-rand3))**(1/(1+distribution_index))\n",
    "        child1 = (1/2)*((1+b)*parent1+(1-b)*parent2)\n",
    "        child2 = (1/2)*((1-b)*parent1+(1+b)*parent2)\n",
    "        pop.append(child1)\n",
    "        pop.append(child2)\n",
    "    return pop\n",
    "\n",
    "def Mutation(mutation_probability, pops, distribution_index = 20):\n",
    "    popu = list(pops)\n",
    "    for each in range(int(mutation_probability*np.shape(pops)[0])):\n",
    "        rand1 = int(random.random()*np.shape(popu)[0])\n",
    "        rand2 = random.random()\n",
    "        if rand2 <= 0.5:\n",
    "            d = (2*rand2)**(1/(1+distribution_index)) - 1\n",
    "        else:\n",
    "            d = 1 - (2*(1-rand2))**(1/(distribution_index + 1))\n",
    "        mutant = np.add(popu[rand1], d)\n",
    "        popu.append(mutant)\n",
    "        return popu\n",
    "def Next_Gen(population, function, arrangement, actual):\n",
    "    output = []\n",
    "    i = 0\n",
    "    for each in population:\n",
    "        output.append(function(population[i]))\n",
    "        i = i + 1\n",
    "    #print(population)\n",
    "    pops = list(population)\n",
    "    #print(np.shape(pops), np.shape(output))\n",
    "    pops2 = np.column_stack((np.array(pops),np.array(output))) \n",
    "    #print(np.shape(pops2))\n",
    "    ind = np.argsort(pops2[:,-1]);\n",
    "    #print(pops2)\n",
    "    sorted_list = pops2[ind]\n",
    "    #print(sorted_list)\n",
    "    if arrangement.lower() == \"min\":\n",
    "        return sorted_list[:actual, :-1]\n",
    "    elif arrangement.lower() == \"max\":\n",
    "        return sorted_list[-actual:, :-1]"
   ]
  },
  {
   "cell_type": "code",
   "execution_count": 68,
   "metadata": {},
   "outputs": [],
   "source": [
    "def method(X):\n",
    "    return np.sum(np.array(X)**2)\n",
    "best = []\n",
    "output = []\n",
    "i, function_value = Initializtion(100 ,100 , 0, 5, method)\n",
    "for each in range(1000):\n",
    "    selected = Selection(100, i, method, \"min\")\n",
    "    crossover = Crossover(0.8, selected, 20)\n",
    "    mutated = Mutation(0.2, crossover, 20)\n",
    "    i = Next_Gen(mutated, method, \"min\", 100)\n",
    "    best.append(i)\n",
    "    output.append(method(i))"
   ]
  },
  {
   "cell_type": "code",
   "execution_count": 69,
   "metadata": {},
   "outputs": [
    {
     "data": {
      "image/png": "[encoded data removed]",
      "text/plain": [
       "<matplotlib.figure.Figure at 0xb92190>"
      ]
     },
     "metadata": {},
     "output_type": "display_data"
    }
   ],
   "source": [
    "plt.plot(output )\n",
    "plt.ylabel('values')\n",
    "plt.xlabel('iterations')\n",
    "plt.show()"
   ]
  },
  {
   "cell_type": "code",
   "execution_count": null,
   "metadata": {},
   "outputs": [],
   "source": []
  },
  {
   "cell_type": "code",
   "execution_count": null,
   "metadata": {},
   "outputs": [],
   "source": []
  }
 ],
 "metadata": {
  "kernelspec": {
   "display_name": "Python 3",
   "language": "python",
   "name": "python3"
  },
  "language_info": {
   "codemirror_mode": {
    "name": "ipython",
    "version": 3
   },
   "file_extension": ".py",
   "mimetype": "text/x-python",
   "name": "python",
   "nbconvert_exporter": "python",
   "pygments_lexer": "ipython3",
   "version": "3.6.3"
  }
 },
 "nbformat": 4,
 "nbformat_minor": 2
}
