{
 "cells": [
  {
   "cell_type": "code",
   "execution_count": 84,
   "metadata": {
    "ExecuteTime": {
     "end_time": "2018-10-02T10:04:09.379727Z",
     "start_time": "2018-10-02T10:04:09.366776Z"
    }
   },
   "outputs": [
    {
     "name": "stdout",
     "output_type": "stream",
     "text": [
      "(150, 4)\n",
      "(150,)\n"
     ]
    }
   ],
   "source": [
    "import matplotlib.pyplot as plt\n",
    "from sklearn import datasets\n",
    "import numpy as np\n",
    "from random import randrange\n",
    "import scipy\n",
    "\n",
    "# import some data to play with\n",
    "iris = datasets.load_iris()\n",
    "X = iris.data  \n",
    "y = iris.target\n",
    "X = X/np.mean(X)\n",
    "#print(np.shape(X))\n",
    "#print(np.shape(y))"
   ]
  },
  {
   "cell_type": "code",
   "execution_count": 85,
   "metadata": {
    "ExecuteTime": {
     "end_time": "2018-10-02T10:04:09.820118Z",
     "start_time": "2018-10-02T10:04:09.769244Z"
    }
   },
   "outputs": [],
   "source": [
    "\"\"\"\n",
    "LMS function used to update weights\n",
    "\"\"\"\n",
    "def LMS (error, inp, weight, learning_rate = 0.5):\n",
    "    print(np.shape(inp), np.shape(weight))\n",
    "    return weight + (2 * learning_rate * (inp * error))\n",
    "def getLoss(w,x,Y,lam):\n",
    "    m = x.shape[0] #First we get the number of training examples\n",
    "    scores = np.dot(x,w) #Then we compute raw class scores given our input and current weights\n",
    "    y_mat = oneHotIt(y)\n",
    "    prob = softmax(scores) #Next we perform a softmax on these scores to get their probabilities\n",
    "    loss = (-1 / m) * np.sum(y_mat * np.log(prob)) + (lam/2)*np.sum(w*w) #We then find the loss of the probabilities\n",
    "    return loss\n",
    "def oneHotIt(Y):\n",
    "    m = Y.shape[0]\n",
    "    #Y = Y[:,0]\n",
    "    OHX = scipy.sparse.csr_matrix((np.ones(m), (Y, np.array(range(m)))))\n",
    "    OHX = np.array(OHX.todense()).T\n",
    "    return OHX\n",
    "def softmax(z):\n",
    "    z -= np.max(z)\n",
    "    sm = (np.exp(z).T / np.sum(np.exp(z),axis=1)).T\n",
    "    return sm\n",
    "def getProbsAndPreds(someX):\n",
    "    probs = softmax(np.dot(someX,w))\n",
    "    preds = np.argmax(probs,axis=1)\n",
    "    return probs,preds"
   ]
  },
  {
   "cell_type": "code",
   "execution_count": 91,
   "metadata": {
    "ExecuteTime": {
     "end_time": "2018-10-02T10:05:14.796570Z",
     "start_time": "2018-10-02T10:05:14.734730Z"
    }
   },
   "outputs": [
    {
     "name": "stdout",
     "output_type": "stream",
     "text": [
      "[1.0986122886681098, 1.0986120589662243, 1.0986118292651175, 1.0986115995647898, 1.0986113698652404, 1.0986111401664698, 1.098610910468478, 1.098610680771265, 1.0986104510748307, 1.0986102213791753, 1.0986099916842982, 1.0986097619902002, 1.098609532296881, 1.0986093026043402, 1.0986090729125781, 1.0986088432215948, 1.0986086135313906, 1.0986083838419647, 1.0986081541533177, 1.0986079244654494, 1.0986076947783601, 1.0986074650920494, 1.0986072354065173, 1.0986070057217638, 1.0986067760377893, 1.0986065463545935, 1.0986063166721762, 1.0986060869905379, 1.0986058573096782, 1.0986056276295972, 1.0986053979502952, 1.0986051682717717, 1.0986049385940271, 1.0986047089170607, 1.0986044792408733, 1.0986042495654651, 1.0986040198908353, 1.0986037902169841, 1.0986035605439117, 1.0986033308716183, 1.0986031012001034, 1.0986028715293674, 1.0986026418594097, 1.0986024121902311, 1.0986021825218311, 1.0986019528542101, 1.0986017231873677, 1.0986014935213038, 1.0986012638560188, 1.0986010341915127, 1.0986008045277851, 1.0986005748648362, 1.0986003452026663, 1.098600115541275, 1.098599885880662, 1.0985996562208282, 1.0985994265617729, 1.0985991969034967, 1.098598967245999, 1.0985987375892801, 1.0985985079333398, 1.0985982782781782, 1.0985980486237956, 1.0985978189701913, 1.0985975893173663, 1.0985973596653198, 1.0985971300140516, 1.0985969003635627, 1.0985966707138524, 1.0985964410649207, 1.0985962114167678, 1.0985959817693933, 1.0985957521227983, 1.0985955224769817, 1.0985952928319436, 1.0985950631876842, 1.098594833544204, 1.0985946039015018, 1.098594374259579, 1.0985941446184346, 1.0985939149780692, 1.0985936853384821, 1.0985934556996741, 1.0985932260616447, 1.0985929964243941, 1.0985927667879221, 1.0985925371522289, 1.0985923075173145, 1.0985920778831788, 1.0985918482498218, 1.0985916186172435, 1.098591388985444, 1.0985911593544231, 1.0985909297241812, 1.0985907000947175, 1.098590470466033, 1.0985902408381274, 1.0985900112110003, 1.0985897815846517, 1.0985895519590823, 1.0985893223342911, 1.098589092710279, 1.0985888630870453, 1.0985886334645909, 1.0985884038429148, 1.0985881742220174, 1.0985879446018989, 1.0985877149825591, 1.0985874853639979, 1.0985872557462155, 1.0985870261292119, 1.0985867965129872, 1.098586566897541, 1.0985863372828735, 1.0985861076689847, 1.0985858780558748, 1.0985856484435434, 1.098585418831991, 1.0985851892212171, 1.098584959611222]\n"
     ]
    }
   ],
   "source": [
    "w = np.zeros([X.shape[1],len(np.unique(y))])\n",
    "lam = 1\n",
    "iterations = 1000\n",
    "learningRate = 1e-5\n",
    "losses = []\n",
    "train = int(np.shape(X)[0] * 0.8)\n",
    "for i in range(0,int(np.shape(X)[0] * 0.8)):\n",
    "    loss = getLoss(w,X,y,lam)\n",
    "    losses.append(loss)\n",
    "    w = w - (learningRate * grad)\n",
    "print(losses)"
   ]
  },
  {
   "cell_type": "code",
   "execution_count": 87,
   "metadata": {
    "ExecuteTime": {
     "end_time": "2018-10-02T10:04:11.624075Z",
     "start_time": "2018-10-02T10:04:11.509373Z"
    }
   },
   "outputs": [
    {
     "data": {
      "image/png": "[encoded data removed]",
      "text/plain": [
       "<matplotlib.figure.Figure at 0x157fc70>"
      ]
     },
     "metadata": {},
     "output_type": "display_data"
    }
   ],
   "source": [
    "plt.plot(losses)\n",
    "plt.ylabel('errors')\n",
    "plt.xlabel('value')\n",
    "plt.show()"
   ]
  },
  {
   "cell_type": "code",
   "execution_count": 88,
   "metadata": {
    "ExecuteTime": {
     "end_time": "2018-10-02T10:04:12.419948Z",
     "start_time": "2018-10-02T10:04:12.413964Z"
    }
   },
   "outputs": [],
   "source": [
    "def getAccuracy(someX,someY):\n",
    "    prob,prede = getProbsAndPreds(someX)\n",
    "    accuracy = sum(prede == someY)/(float(len(someY)))\n",
    "    return accuracy"
   ]
  },
  {
   "cell_type": "code",
   "execution_count": 89,
   "metadata": {
    "ExecuteTime": {
     "end_time": "2018-10-02T10:04:13.045185Z",
     "start_time": "2018-10-02T10:04:13.038202Z"
    }
   },
   "outputs": [
    {
     "name": "stdout",
     "output_type": "stream",
     "text": [
      "Training Accuracy:  0.666666666667\n",
      "Test Accuracy:  1.0\n"
     ]
    }
   ],
   "source": [
    "print('Training Accuracy: ', getAccuracy(X,y))\n",
    "print('Test Accuracy: ', getAccuracy(X[train:], y[train:]))"
   ]
  },
  {
   "cell_type": "code",
   "execution_count": 103,
   "metadata": {
    "ExecuteTime": {
     "end_time": "2018-10-02T10:10:44.679099Z",
     "start_time": "2018-10-02T10:10:44.672109Z"
    }
   },
   "outputs": [
    {
     "name": "stdout",
     "output_type": "stream",
     "text": [
      "Validation for example 2 : predicted -  0 actual -  0\n"
     ]
    }
   ],
   "source": [
    "out = (np.matmul(X[1],w))\n",
    "out = np.exp(out) / np.sum(np.exp(out), axis=0)\n",
    "print(\"Validation for example 2 : predicted - \",np.argmax(out),\"actual - \" ,y[1])\n"
   ]
  },
  {
   "cell_type": "code",
   "execution_count": null,
   "metadata": {},
   "outputs": [],
   "source": []
  }
 ],
 "metadata": {
  "kernelspec": {
   "display_name": "Python 3",
   "language": "python",
   "name": "python3"
  },
  "language_info": {
   "codemirror_mode": {
    "name": "ipython",
    "version": 3
   },
   "file_extension": ".py",
   "mimetype": "text/x-python",
   "name": "python",
   "nbconvert_exporter": "python",
   "pygments_lexer": "ipython3",
   "version": "3.6.3"
  },
  "varInspector": {
   "cols": {
    "lenName": 16,
    "lenType": 16,
    "lenVar": 40
   },
   "kernels_config": {
    "python": {
     "delete_cmd_postfix": "",
     "delete_cmd_prefix": "del ",
     "library": "var_list.py",
     "varRefreshCmd": "print(var_dic_list())"
    },
    "r": {
     "delete_cmd_postfix": ") ",
     "delete_cmd_prefix": "rm(",
     "library": "var_list.r",
     "varRefreshCmd": "cat(var_dic_list()) "
    }
   },
   "types_to_exclude": [
    "module",
    "function",
    "builtin_function_or_method",
    "instance",
    "_Feature"
   ],
   "window_display": false
  }
 },
 "nbformat": 4,
 "nbformat_minor": 2
}
