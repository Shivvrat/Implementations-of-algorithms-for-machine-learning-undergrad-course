{
 "cells": [
  {
   "cell_type": "code",
   "execution_count": 1,
   "metadata": {
    "ExecuteTime": {
     "end_time": "2018-10-01T20:47:59.742121Z",
     "start_time": "2018-10-01T20:47:59.023806Z"
    }
   },
   "outputs": [],
   "source": [
    "import numpy as np\n",
    "import random \n",
    "import math\n",
    "from pyswarms.utils.functions.single_obj import rosenbrock_func\n",
    "from operator import itemgetter\n",
    "from numpy import linspace\n",
    "import matplotlib.pyplot as plt"
   ]
  },
  {
   "cell_type": "code",
   "execution_count": 2,
   "metadata": {
    "ExecuteTime": {
     "end_time": "2018-10-01T20:47:59.757042Z",
     "start_time": "2018-10-01T20:47:59.744106Z"
    }
   },
   "outputs": [],
   "source": [
    "\"\"\"\n",
    "RLS function used to update weights\n",
    "\"\"\"\n",
    "def RLS (actual, inp, weight, r_k_inv ):\n",
    "    #r_k_inv = 1000*np.identity(np.shape(i)[0])\n",
    "    # actual output inp and weight are matrices\n",
    "    y_not = np.matmul(weight ,inp)\n",
    "    error = actual - y_not\n",
    "    z_k = np.matmul(r_k_inv, inp)\n",
    "    q = np.matmul(inp.T , z_k)\n",
    "    v = 1/(1 + q)\n",
    "    z_k_tilde = v * z_k\n",
    "    w_new = weight + error * z_k_tilde.T\n",
    "    r_new_inv = r_k_inv - np.matmul(z_k_tilde, z_k_tilde.T)\n",
    "    #print(np.shape(y_not),np.shape(error),np.shape(z_k),np.shape(q),np.shape(v),np.shape(z_k_tilde),np.shape(w_new), np.shape(r_k_inv))\n",
    "    return w_new, r_new_inv"
   ]
  },
  {
   "cell_type": "code",
   "execution_count": 3,
   "metadata": {
    "ExecuteTime": {
     "end_time": "2018-10-01T20:47:59.934080Z",
     "start_time": "2018-10-01T20:47:59.843323Z"
    }
   },
   "outputs": [
    {
     "name": "stdout",
     "output_type": "stream",
     "text": [
      "Total Iteration  1000\n",
      "Final Weights :- [[ 0.37155894  0.31957708  0.40890136]]\n",
      "Error After full Training 3.74547747128e-06\n"
     ]
    }
   ],
   "source": [
    "# for constants 0.2, 0.7, 0.2 with alpha = 0.01\n",
    "weights = [[np.random.randn(),np.random.randn(),np.random.randn()]]\n",
    "#print(np.shape(weights))\n",
    "#print(weights)\n",
    "first = 0\n",
    "last = 100\n",
    "num1 = 1000\n",
    "error = 0\n",
    "errors = []\n",
    "numbers = 3\n",
    "count = 0\n",
    "diff = (last - first)/num1\n",
    "r_k_inv = 100*np.identity(numbers)\n",
    "for each in np.linspace(first, last, num=num1):\n",
    "    count = count + 1\n",
    "    actual = 0.2 * each + 0.7 * (each - diff) + 0.2 * (each - 2 * diff)\n",
    "    inp = np.asarray([[each], [each - diff], [each - 2 * diff]])\n",
    "    #print(np.shape(inp))\n",
    "    output = weights[0][0] * each + weights[0][1] * (each - diff) + weights[0][2] * (each - 2 * diff)\n",
    "    #print(actual, output, weights, each)\n",
    "    weights, r_k_inv = RLS(actual, inp, weights, r_k_inv)\n",
    "    error = abs(output - actual)\n",
    "    if abs(output - actual) <= 0.0000001:\n",
    "        print(\"Ended on iteration \", count)\n",
    "        break\n",
    "    if each != 0:\n",
    "        errors.append(error)\n",
    "print(\"Total Iteration \", count)\n",
    "print(\"Final Weights :-\", weights)\n",
    "print(\"Error After full Training\", error)\n",
    "#print(errors)"
   ]
  },
  {
   "cell_type": "code",
   "execution_count": 4,
   "metadata": {
    "ExecuteTime": {
     "end_time": "2018-10-01T20:48:00.127562Z",
     "start_time": "2018-10-01T20:47:59.976965Z"
    }
   },
   "outputs": [
    {
     "data": {
      "image/png": "[encoded data removed]",
      "text/plain": [
       "<matplotlib.figure.Figure at 0xf6beb50>"
      ]
     },
     "metadata": {},
     "output_type": "display_data"
    }
   ],
   "source": [
    "plt.plot(errors)\n",
    "plt.ylabel('values')\n",
    "plt.xlabel('iterations')\n",
    "plt.show()"
   ]
  },
  {
   "cell_type": "code",
   "execution_count": 5,
   "metadata": {
    "ExecuteTime": {
     "end_time": "2018-10-01T20:48:00.220319Z",
     "start_time": "2018-10-01T20:48:00.130555Z"
    }
   },
   "outputs": [
    {
     "name": "stdout",
     "output_type": "stream",
     "text": [
      "Total Iteration  1000\n",
      "Final Weights :- [[ 0.10436467  1.35738001  0.61625805 -0.47985239]]\n",
      "Error After full Training 0.000185337126624\n"
     ]
    }
   ],
   "source": [
    "# for constants 0.3, 0.4, 0.1, 0.8 with alpha 0.01\n",
    "\n",
    "weights = [[np.random.randn(),np.random.randn(),np.random.randn(), np.random.randn()]]\n",
    "#print(np.shape(weights))\n",
    "#print(weights)\n",
    "first = 0\n",
    "last = 100\n",
    "num1 = 1000\n",
    "error = 0\n",
    "errors = []\n",
    "numbers = 4\n",
    "count = 0\n",
    "diff = (last - first)/num1\n",
    "r_k_inv = 100*np.identity(numbers)\n",
    "for each in np.linspace(first, last, num=num1):\n",
    "    count = count + 1\n",
    "    actual = 0.3 * each + 0.4 * (each - diff) + 0.1 * (each - 2 * diff) + 0.8 * (each - 3 * diff)\n",
    "    output = weights[0][0] * each + weights[0][1] * (each - diff) + weights[0][2] * (each - 2 * diff) + weights[0][3] * (each - 3 * diff)\n",
    "    inp = np.asarray([[each], [each - diff], [each - 2 * diff], [each - 3*diff]])\n",
    "    #print(np.shape(inp))\n",
    "    #print(actual, output, weights, each)\n",
    "    weights, r_k_inv = RLS(actual, inp, weights, r_k_inv)\n",
    "    error = abs(output - actual)\n",
    "    if abs(output - actual) <= 0.0000001:\n",
    "        print(\"Ended on iteration \", count)\n",
    "        break\n",
    "    if each != 0:\n",
    "        errors.append(error)\n",
    "print(\"Total Iteration \", count)\n",
    "print(\"Final Weights :-\", weights)\n",
    "print(\"Error After full Training\", error)\n",
    "#print(errors)"
   ]
  },
  {
   "cell_type": "code",
   "execution_count": 6,
   "metadata": {
    "ExecuteTime": {
     "end_time": "2018-10-01T20:48:00.326032Z",
     "start_time": "2018-10-01T20:48:00.222309Z"
    }
   },
   "outputs": [
    {
     "data": {
      "image/png": "[encoded data removed]",
      "text/plain": [
       "<matplotlib.figure.Figure at 0x4bda0b0>"
      ]
     },
     "metadata": {},
     "output_type": "display_data"
    }
   ],
   "source": [
    "plt.plot(errors)\n",
    "plt.ylabel('values')\n",
    "plt.xlabel('iterations')\n",
    "plt.show()"
   ]
  }
 ],
 "metadata": {
  "kernelspec": {
   "display_name": "Python 3",
   "language": "python",
   "name": "python3"
  },
  "language_info": {
   "codemirror_mode": {
    "name": "ipython",
    "version": 3
   },
   "file_extension": ".py",
   "mimetype": "text/x-python",
   "name": "python",
   "nbconvert_exporter": "python",
   "pygments_lexer": "ipython3",
   "version": "3.6.3"
  },
  "varInspector": {
   "cols": {
    "lenName": 16,
    "lenType": 16,
    "lenVar": 40
   },
   "kernels_config": {
    "python": {
     "delete_cmd_postfix": "",
     "delete_cmd_prefix": "del ",
     "library": "var_list.py",
     "varRefreshCmd": "print(var_dic_list())"
    },
    "r": {
     "delete_cmd_postfix": ") ",
     "delete_cmd_prefix": "rm(",
     "library": "var_list.r",
     "varRefreshCmd": "cat(var_dic_list()) "
    }
   },
   "types_to_exclude": [
    "module",
    "function",
    "builtin_function_or_method",
    "instance",
    "_Feature"
   ],
   "window_display": false
  }
 },
 "nbformat": 4,
 "nbformat_minor": 2
}
