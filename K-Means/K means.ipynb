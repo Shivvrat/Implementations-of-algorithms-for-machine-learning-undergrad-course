{
 "cells": [
  {
   "cell_type": "code",
   "execution_count": 1,
   "metadata": {},
   "outputs": [],
   "source": [
    "import matplotlib.pyplot as plt\n",
    "from sklearn import datasets\n",
    "import numpy as np\n",
    "from random import randrange \n",
    "\n",
    "# import some data to play with\n",
    "iris = datasets.load_iris()\n",
    "X = iris.data  \n",
    "y = iris.target"
   ]
  },
  {
   "cell_type": "code",
   "execution_count": 2,
   "metadata": {},
   "outputs": [],
   "source": [
    "# THis method initializes the centers\n",
    "def initialize_centers(X, num):\n",
    "    centers = []\n",
    "    centers.append(X[randrange(0,num)])\n",
    "    centers.append(X[randrange(0,num)])\n",
    "    centers.append(X[randrange(0,num)])\n",
    "    return centers\n",
    "\n",
    "# returns min distance and index()start from 0\n",
    "def calculate_min_distance(center, point):\n",
    "    distance = []\n",
    "    for each in center:\n",
    "        distance1 = np.sqrt(np.sum(np.square(abs(each-point))))\n",
    "        distance.append(distance1)\n",
    "    return np.min(distance), np.where(distance==np.min(distance))[0][0]\n",
    "\n",
    "# This method updates the center points according to the mean distances\n",
    "def update_centers(points):\n",
    "    return np.mean(points, axis=0)\n",
    "\n",
    "# This method initializes the points related to the centers\n",
    "def points_in_centers_initial(X):\n",
    "    center_points = []\n",
    "    \n",
    "    \n",
    "    center_points.append(X[0:X.shape[0]//3,:])\n",
    "    center_points.append([X[X.shape[0]//3:2*X.shape[0]//3,:]])\n",
    "    center_points.append([X[2*X.shape[0]//3:,:]])\n",
    "    return center_points"
   ]
  },
  {
   "cell_type": "code",
   "execution_count": 3,
   "metadata": {},
   "outputs": [],
   "source": [
    "centers = initialize_centers(X, len(X))    "
   ]
  },
  {
   "cell_type": "code",
   "execution_count": 4,
   "metadata": {},
   "outputs": [
    {
     "name": "stdout",
     "output_type": "stream",
     "text": [
      "<class 'list'>\n",
      "50\n",
      "61\n",
      "39\n"
     ]
    }
   ],
   "source": [
    "center_points = dict.fromkeys([0, 1, 2])\n",
    "center_points[0] = []\n",
    "center_points[1] = []\n",
    "center_points[2] = []\n",
    "\n",
    "for count in range(100):\n",
    "    center_points[0] = []\n",
    "    center_points[1] = []\n",
    "    center_points[2] = []\n",
    "    for each in X:\n",
    "        min_distance, index = calculate_min_distance(centers, each)\n",
    "        center_points[index].append(each)\n",
    "    centers[0] = update_centers(center_points[0])\n",
    "    centers[1] = update_centers(center_points[1])\n",
    "    centers[2] = update_centers(center_points[2])\n",
    "    \n",
    "print(type(center_points[0]))\n",
    "print(len(center_points[0]))\n",
    "print(len(center_points[1]))\n",
    "print(len(center_points[2]))"
   ]
  },
  {
   "cell_type": "code",
   "execution_count": null,
   "metadata": {},
   "outputs": [],
   "source": []
  }
 ],
 "metadata": {
  "kernelspec": {
   "display_name": "Python 3",
   "language": "python",
   "name": "python3"
  },
  "language_info": {
   "codemirror_mode": {
    "name": "ipython",
    "version": 3
   },
   "file_extension": ".py",
   "mimetype": "text/x-python",
   "name": "python",
   "nbconvert_exporter": "python",
   "pygments_lexer": "ipython3",
   "version": "3.6.3"
  }
 },
 "nbformat": 4,
 "nbformat_minor": 2
}
